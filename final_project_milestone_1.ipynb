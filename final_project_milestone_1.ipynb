{
 "cells": [
  {
   "cell_type": "markdown",
   "metadata": {},
   "source": [
    "# Final Project Milestone 1\n",
    "\n",
    "**Objective:** The Project Proposal is the first milestone in your final project journey. Its purpose is to provide a clear and concise outline of the machine learning problem or application you intend to explore. This milestone sets the foundation for your final project and requires you to articulate the significance of the chosen problem, describe the dataset you plan to use, and specify the machine learning algorithms you intend to explore."
   ]
  },
  {
   "cell_type": "markdown",
   "metadata": {},
   "source": [
    "## **Tasks:**"
   ]
  },
  {
   "cell_type": "markdown",
   "metadata": {},
   "source": [
    "1. **Team Members:**\n",
    "- Jeancarlo Perez\n",
    "- Matthew Larrosa\n",
    "- William Duran"
   ]
  },
  {
   "cell_type": "markdown",
   "metadata": {},
   "source": [
    "2. **Select a Machine Learning Problem or Application:**\n",
    "Choose a machine learning problem or application that you find interesting and relevant.\n",
    "Clearly define the problem statement or the goal of your project.\n",
    "\n",
    "The machine learning application that we have taken an interest in is one that will use computer vision to distinguish between weeds and crops."
   ]
  },
  {
   "cell_type": "markdown",
   "metadata": {},
   "source": [
    "3. **Dataset Description:**\n",
    "\n",
    "    - [Dataset](https://www.kaggle.com/datasets/ravirajsinh45/crop-and-weed-detection-data-with-bounding-boxes/data)\n",
    "    \n",
    "This is a crop vs weed dataset, that will be used to distinguish between the appearance of a Weed and Crop is an unwanted thing in agriculture. Weeds use the nutrients, water, land and many more things that might have gone to crops. Which results in less production of the required crop. The farmer often uses pesticides to remove weeds which is also effective but some pesticides may stick with crops and may cause problems for humans.\n",
    "\n",
    "This folder contains 1300 color images of 512X512 size and 1300 text files which contain labels of images. Label files have the same name as image.\n",
    "\n",
    "\n"
   ]
  },
  {
   "cell_type": "markdown",
   "metadata": {},
   "source": [
    "4. **Project Objectives:**\n",
    "Clearly outline the objectives of your project. What do you aim to achieve with your machine learning application?\n",
    "\n",
    "\n",
    " The objectives of our project is to use machine learning to differentiate between different types of plants. The application will be able to tell the difference between a regular crop or a harmful weed. This could potentially help people identify harmful plants growing in their gardens and in their communities."
   ]
  },
  {
   "cell_type": "markdown",
   "metadata": {},
   "source": [
    "5. **Algorithms Specification:**\n",
    "Specify the machine learning algorithms you intend to explore for solving the chosen problem.\n",
    "Provide a brief justification for your choice of algorithms.\n",
    "\n",
    "\n",
    "There are a number of machine learning algorithms that we may use to solve our problem. Some potential options include: Random Forest, Convolutional Neural Networks (CNN), or K-Nearest Neighbors (KNN). Random forest excels in it's ease of use and flexibility in handling classification problems. It also excels in minimizing overfitting. CNN is a type of learning algorithm that excels in computer vision, which will no doubt be useful in this type of project. Finally, we are considering using KNN, because of our previous exposure to it. Furthermore, it's proximity based classifications could be useful in differentiating between crops and weeds."
   ]
  }
 ],
 "metadata": {
  "kernelspec": {
   "display_name": "Python 3",
   "language": "python",
   "name": "python3"
  },
  "language_info": {
   "name": "python",
   "version": "3.11.5"
  }
 },
 "nbformat": 4,
 "nbformat_minor": 2
}
