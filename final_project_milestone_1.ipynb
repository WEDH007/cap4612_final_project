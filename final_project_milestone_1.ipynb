{
 "cells": [
  {
   "cell_type": "markdown",
   "metadata": {},
   "source": [
    "# Final Project Milestone 1\n",
    "\n",
    "**Objective:** The Project Proposal is the first milestone in your final project journey. Its purpose is to provide a clear and concise outline of the machine learning problem or application you intend to explore. This milestone sets the foundation for your final project and requires you to articulate the significance of the chosen problem, describe the dataset you plan to use, and specify the machine learning algorithms you intend to explore."
   ]
  },
  {
   "cell_type": "markdown",
   "metadata": {},
   "source": [
    "## **Tasks:**"
   ]
  },
  {
   "cell_type": "markdown",
   "metadata": {},
   "source": [
    "1. **Team Members:**\n",
    "- Jeancarlo Perez\n",
    "- Matthew Larrosa\n",
    "- William Duran"
   ]
  },
  {
   "cell_type": "markdown",
   "metadata": {},
   "source": [
    "2. **Select a Machine Learning Problem or Application:**\n",
    "Choose a machine learning problem or application that you find interesting and relevant.\n",
    "Clearly define the problem statement or the goal of your project.\n",
    "\nThe machine learning application that we have taken an interest in is one that will use computer vision to distinguish between weeds and crops."
   ]
  },
  {
   "cell_type": "markdown",
   "metadata": {},
   "source": [
    "3. **Dataset Description:**\n",
    "\n",
    "Provide a detailed description of the dataset you plan to use or intend to collect.\n",
    "Specify the source of the dataset (public sources like Kaggle, academic repositories, or collected personally, if applicable).\n",
    "    - [Dataset](https://www.kaggle.com/code/benroshan/sentiment-analysis-amazon-reviews/input)\n",
    "    \n",
    "About this file\n",
    "This file is in json format GZ file (zipped).\n",
    "This file has reviewer ID , User ID, Reviewer Name, Reviewer text, helpful, Summary(obtained from Reviewer text),Overall Rating on a scale 5, Review time\n",
    "Description of columns in the file:\n",
    "\n",
    "- 1. reviewerID - ID of the reviewer, e.g. A2SUAM1J3GNN3B\n",
    "- 2. asin - ID of the product, e.g. 0000013714\n",
    "- 3. reviewerName - name of the reviewer\n",
    "- 4. helpful - helpfulness rating of the review, e.g. 2/3\n",
    "- 5. reviewText - text of the review\n",
    "- 6. overall - rating of the product\n",
    "- 7. summary - summary of the review\n",
    "- 8. unixReviewTime - time of the review (unix time)\n",
    "- 9. reviewTime - time of the review (raw)\n",
    "\n"
   ]
  },
  {
   "cell_type": "markdown",
   "metadata": {},
   "source": [
    "4. **Project Objectives:**\n",
    "Clearly outline the objectives of your project. What do you aim to achieve with your machine learning application?",
    "\n The objectives of our project is to use machine learning to differentiate between different types of plants. The application will be able to tell the difference between a regular crop or a harmful weed. This could potentially help people identify harmful plants growing in their gardens and in their communities."
   ]
  },
  {
   "cell_type": "markdown",
   "metadata": {},
   "source": [
    "5. **Algorithms Specification:**\n",
    "Specify the machine learning algorithms you intend to explore for solving the chosen problem.\n",
    "Provide a brief justification for your choice of algorithms."
   ]
  }
 ],
 "metadata": {
  "kernelspec": {
   "display_name": "Python 3",
   "language": "python",
   "name": "python3"
  },
  "language_info": {
   "name": "python",
   "version": "3.11.5"
  }
 },
 "nbformat": 4,
 "nbformat_minor": 2
}
